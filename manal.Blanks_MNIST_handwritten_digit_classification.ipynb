{
  "cells": [
    {
      "cell_type": "markdown",
      "metadata": {
        "id": "sxquFBDorNn2"
      },
      "source": [
        "# Handwritten Digit Classification\n",
        "\n",
        "\n",
        "For this Hands-on, we will use the popular scikit-learn library to build a basic classifier. The MNIST dataset contains images of handwritten digits, and the task is to classify each image into its corresponding digit (0 to 9)."
      ]
    },
    {
      "cell_type": "markdown",
      "metadata": {
        "id": "LFjb1WbUtzcT"
      },
      "source": [
        "## Import Libraries"
      ]
    },
    {
      "cell_type": "code",
      "execution_count": 1,
      "metadata": {
        "id": "vZuJJeZBt1NX"
      },
      "outputs": [],
      "source": [
        "# Import required libraries\n",
        "import numpy as np\n",
        "import matplotlib.pyplot as plt\n",
        "from keras.datasets import mnist\n",
        "from keras.models import Sequential\n",
        "from keras.layers import Conv2D, MaxPooling2D, Flatten, Dense\n",
        "from keras.utils import to_categorical\n",
        "from sklearn.model_selection import train_test_split"
      ]
    },
    {
      "cell_type": "markdown",
      "metadata": {
        "id": "izR8JS-irUfe"
      },
      "source": [
        "## Load the Dataset"
      ]
    },
    {
      "cell_type": "markdown",
      "source": [
        "**Question 1:** Load the train and test subsets of the mnist dataset from Keras"
      ],
      "metadata": {
        "id": "ksDVyrnEaqY9"
      }
    },
    {
      "cell_type": "code",
      "execution_count": 5,
      "metadata": {
        "id": "tPZGpMact7Hh",
        "outputId": "b6abb39d-5280-404c-ab28-c6351a142014",
        "colab": {
          "base_uri": "https://localhost:8080/"
        }
      },
      "outputs": [
        {
          "output_type": "stream",
          "name": "stdout",
          "text": [
            "Downloading data from https://storage.googleapis.com/tensorflow/tf-keras-datasets/mnist.npz\n",
            "11490434/11490434 [==============================] - 0s 0us/step\n"
          ]
        }
      ],
      "source": [
        "import tensorflow as tf\n",
        "# Load the MNIST dataset\n",
        "(X_train, y_train), (X_test, y_test) =tf.keras .datasets.mnist.load_data()"
      ]
    },
    {
      "cell_type": "markdown",
      "metadata": {
        "id": "1hRAaUS5uBa5"
      },
      "source": [
        "## Data Pre-Processing"
      ]
    },
    {
      "cell_type": "markdown",
      "source": [
        "**Question 2:**  \n",
        "\n",
        "*   Adjust the input shape to match the one the model is expecting\n",
        "*   Normalize the values of the pixels\n",
        "*   Turn labels into categories using the to_categorical function"
      ],
      "metadata": {
        "id": "pk-ekR4Wa1AD"
      }
    },
    {
      "cell_type": "code",
      "execution_count": 9,
      "metadata": {
        "id": "6PlFzdt2uAOc"
      },
      "outputs": [],
      "source": [
        "# Preprocess the data\n",
        "x_train = X_train.reshape(-1, 28 ,28, 1)/255.0\n",
        "x_train = X_train.reshape(-1 ,28 ,28, 1)/255.0\n",
        "x_train , X_test= np.array(X_train), np.array(X_test)\n",
        "\n",
        "y_train = to_categorical(y_train ,num_classes=10)\n",
        "y_test= to_categorical(y_test, num_classes=10)\n"
      ]
    },
    {
      "cell_type": "markdown",
      "metadata": {
        "id": "C2P2NYGAu3uf"
      },
      "source": [
        "## Build and train a CNN"
      ]
    },
    {
      "cell_type": "markdown",
      "source": [
        "**Question 3:** Create a Convolutional neural Network of your choice and be carefyl while you select the following:\n",
        "\n",
        "\n",
        "*   input shape\n",
        "*   activation function at the output layer\n",
        "*   number of output neurons\n",
        "\n"
      ],
      "metadata": {
        "id": "gBh_E3p8yQJd"
      }
    },
    {
      "cell_type": "code",
      "execution_count": 11,
      "metadata": {
        "id": "cSKyObX3u6b5"
      },
      "outputs": [],
      "source": [
        "\n",
        "import matplotlib.pyplot as plt\n",
        "\n",
        "from keras.models import Sequential\n",
        "from keras.layers import Conv2D, MaxPooling2D, Flatten, Dense\n",
        "\n",
        "\n",
        "model = Sequential()\n",
        "model.add(Conv2D(32, (3, 3), activation='relu', input_shape=(28, 28, 1)))\n",
        "model.add(MaxPooling2D((2, 2)))\n",
        "model.add(Conv2D(64, (3, 3), activation='relu'))\n",
        "model.add(MaxPooling2D((2, 2)))\n",
        "model.add(Flatten())\n",
        "model.add(Dense(128, activation='relu'))\n",
        "model.add(Dense(10, activation='relu'))\n",
        "\n",
        "\n"
      ]
    },
    {
      "cell_type": "markdown",
      "source": [
        "**Question 4:** Compile and train the model. Choose an appropriate loss function, optimizer, and print out the accuracy of the model."
      ],
      "metadata": {
        "id": "Z37o5R4zyrRB"
      }
    },
    {
      "cell_type": "code",
      "source": [
        "# Compile the model\n",
        "model.compile(optimizer='adam' ,loss='categorical_crossentropy', metrics=['accuracy'])\n",
        "# Train the model\n",
        "history = model.fit(x_train, y_train , batch_size=128, epochs=10 , validation_split=0.2)\n"
      ],
      "metadata": {
        "id": "EsBT-jSlyo35",
        "outputId": "94a3f9b7-ec39-4017-d21d-04190f04872d",
        "colab": {
          "base_uri": "https://localhost:8080/"
        }
      },
      "execution_count": 13,
      "outputs": [
        {
          "output_type": "stream",
          "name": "stdout",
          "text": [
            "Epoch 1/10\n",
            "375/375 [==============================] - 44s 113ms/step - loss: nan - accuracy: 0.1324 - val_loss: nan - val_accuracy: 0.0995\n",
            "Epoch 2/10\n",
            "375/375 [==============================] - 44s 117ms/step - loss: nan - accuracy: 0.0985 - val_loss: nan - val_accuracy: 0.0995\n",
            "Epoch 3/10\n",
            "375/375 [==============================] - 51s 135ms/step - loss: nan - accuracy: 0.0985 - val_loss: nan - val_accuracy: 0.0995\n",
            "Epoch 4/10\n",
            "375/375 [==============================] - 40s 108ms/step - loss: nan - accuracy: 0.0985 - val_loss: nan - val_accuracy: 0.0995\n",
            "Epoch 5/10\n",
            "375/375 [==============================] - 41s 110ms/step - loss: nan - accuracy: 0.0985 - val_loss: nan - val_accuracy: 0.0995\n",
            "Epoch 6/10\n",
            "375/375 [==============================] - 60s 161ms/step - loss: nan - accuracy: 0.0985 - val_loss: nan - val_accuracy: 0.0995\n",
            "Epoch 7/10\n",
            "375/375 [==============================] - 54s 143ms/step - loss: nan - accuracy: 0.0985 - val_loss: nan - val_accuracy: 0.0995\n",
            "Epoch 8/10\n",
            "375/375 [==============================] - 52s 140ms/step - loss: nan - accuracy: 0.0985 - val_loss: nan - val_accuracy: 0.0995\n",
            "Epoch 9/10\n",
            "375/375 [==============================] - 42s 111ms/step - loss: nan - accuracy: 0.0985 - val_loss: nan - val_accuracy: 0.0995\n",
            "Epoch 10/10\n",
            "375/375 [==============================] - 45s 120ms/step - loss: nan - accuracy: 0.0985 - val_loss: nan - val_accuracy: 0.0995\n"
          ]
        }
      ]
    },
    {
      "cell_type": "markdown",
      "metadata": {
        "id": "LaYsKjVSu9KF"
      },
      "source": [
        "## Evaluate the Model's performance"
      ]
    },
    {
      "cell_type": "markdown",
      "source": [
        "**Question 5:** Plot the training and validation accuracy to better understand the performance of the model."
      ],
      "metadata": {
        "id": "57_7ykVky_j_"
      }
    },
    {
      "cell_type": "code",
      "execution_count": 17,
      "metadata": {
        "id": "-KqzKudQu8rv",
        "outputId": "64fd9460-07d1-4f94-e69a-4fe2fc0fa789",
        "colab": {
          "base_uri": "https://localhost:8080/",
          "height": 484
        }
      },
      "outputs": [
        {
          "output_type": "stream",
          "name": "stdout",
          "text": [
            "313/313 [==============================] - 4s 12ms/step - loss: nan - accuracy: 0.0980\n",
            "Test Accuracy: 0.09799999743700027\n"
          ]
        },
        {
          "output_type": "display_data",
          "data": {
            "text/plain": [
              "<Figure size 640x480 with 1 Axes>"
            ],
            "image/png": "[encoded data removed]"
          },
          "metadata": {}
        }
      ],
      "source": [
        "# Evaluate the model on the test set\n",
        "test_loss, test_accuracy = model.evaluate(X_test, y_test)\n",
        "print(\"Test Accuracy:\", test_accuracy)\n",
        "\n",
        "# Plot the training and validation accuracy over epochs\n",
        "plt.plot(history.history['accuracy'], label='Traning Accuracy')\n",
        "plt.plot(history.history['val_accuracy'], label='validation Accuracy')\n",
        "\n",
        "\n",
        "\n",
        "plt.xlabel('Epoch')\n",
        "plt.ylabel('Accuracy')\n",
        "plt.legend()\n",
        "plt.show()\n"
      ]
    }
  ],
  "metadata": {
    "colab": {
      "provenance": [],
      "toc_visible": true
    },
    "kernelspec": {
      "display_name": "Python 3",
      "name": "python3"
    },
    "language_info": {
      "name": "python"
    }
  },
  "nbformat": 4,
  "nbformat_minor": 0
}